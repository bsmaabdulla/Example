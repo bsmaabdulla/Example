{
 "cells": [
  {
   "cell_type": "markdown",
   "metadata": {},
   "source": [
    "Week 4, Assignment C1:\n",
    "\n",
    "CAPM and Modern Portfolio Theory in Python\n",
    "\n",
    "In this notebook, we will study Modern Portfolio Theory in Python.\n",
    "Please complete the lines bellow where you see \"# TODO\"."
   ]
  },
  {
   "cell_type": "code",
   "execution_count": 58,
   "metadata": {},
   "outputs": [],
   "source": [
    "#Objective 1.\n",
    "#Use this cell to import Numpy (as np) and Pyplot (from Matplotlib as plt) packages.\n",
    "\n",
    "import numpy as np\n",
    "\n",
    "from matplotlib import pyplot as plt\n",
    "\n",
    "\n",
    "\n"
   ]
  },
  {
   "cell_type": "code",
   "execution_count": 59,
   "metadata": {},
   "outputs": [],
   "source": [
    "#Objective 2.\n",
    "#Select a number of asset classes ( > 1 ) and a number of observations ( > 500 ).  Store your chosen values to the\n",
    "#two new variables \"no_of_asset_classes\" and \"no_of_observations\", respectively.\n",
    "\n",
    "\n",
    "no_of_asset_classes = 3\n",
    "no_of_observations = 3000"
   ]
  },
  {
   "cell_type": "code",
   "execution_count": 60,
   "metadata": {},
   "outputs": [
    {
     "name": "stdout",
     "output_type": "stream",
     "text": [
      "[[-1.0856306   0.99734545  0.2829785  ...  2.04043199  1.01591697\n",
      "  -1.63378817]\n",
      " [-0.45059869  0.60959032  1.17374438 ...  1.32491703 -0.45076279\n",
      "   0.24077279]\n",
      " [ 0.22690673 -2.39855358 -0.44785801 ... -0.65397796  0.01589647\n",
      "  -0.11016556]]\n"
     ]
    }
   ],
   "source": [
    "np.random.seed(123)\n",
    "matrix_of_return_values = np.random.randn(no_of_asset_classes, no_of_observations)\n",
    "print(matrix_of_return_values)\n",
    "#Objective 3.\n",
    "#Select a number of test portfolios to generate ( > 1,000 < 20,000).  Store your chosen value to the new variable\n",
    "#\"no_of_portfolios\".  \n",
    "\n",
    "no_of_portfolios = 2000"
   ]
  },
  {
   "cell_type": "code",
   "execution_count": 61,
   "metadata": {},
   "outputs": [],
   "source": [
    "#Objective 4.\n",
    "#Initialize four empty lists called \"collection_of_random_asset_weights\", \"portfolio_means\",\n",
    "#\"portfolio_standard_deviations\", and \"portfolio_sharpe_ratios\", respectively.\n",
    "\n",
    "collection_of_random_asset_weights = []\n",
    "portfolio_means = []\n",
    "portfolio_standard_deviations = []\n",
    "portfolio_sharpe_ratios = []"
   ]
  },
  {
   "cell_type": "code",
   "execution_count": 62,
   "metadata": {},
   "outputs": [
    {
     "name": "stdout",
     "output_type": "stream",
     "text": [
      "[[0.09813873 0.46310352 0.43875775]]\n"
     ]
    }
   ],
   "source": [
    "#Objective 5.\n",
    "#Write a function called \"get_random_asset_weights\" that takes as input (Input.I) any number of asset classes\n",
    "#\"no_of_asset_classes\" and returns (Output.I) a Numpy vector (matrix) of weights (percentages) of length \"no_of_asset_classes\"\n",
    "#whose sum is one (1).\n",
    "\n",
    "def get_random_asset_weights(no_of_asset_classes):\n",
    "    random_asset_weights = np.random.rand(no_of_asset_classes)\n",
    "    random_asset_weights=random_asset_weights / random_asset_weights.sum()\n",
    "    random_asset_weights= np.matrix(random_asset_weights)\n",
    "    return random_asset_weights \n",
    "print(get_random_asset_weights(3))"
   ]
  },
  {
   "cell_type": "code",
   "execution_count": 63,
   "metadata": {},
   "outputs": [
    {
     "name": "stdout",
     "output_type": "stream",
     "text": [
      "(0.017186265785369033, 0.7448219972808784, 0.023074326279447884)\n"
     ]
    }
   ],
   "source": [
    "#Objective 6.\n",
    "#Write a function called \"get_portfolio_statistics\" that takes as input (Input.I) a Numpy vector (matrix)\n",
    "#\"asset_weights\" of weights (percentages) whose sum is one (1) and (Input.II) a Numpy matrix of return values\n",
    "#\"matrix_of_return_values\" whose first axis length is the same as the length of the Numpy vector (matrix)\n",
    "#\"asset_weights\" and returns (Output.I) the mean \"portfolio_mean\", (Output.II) the standard deviation\n",
    "#\"portfolio_standard_deviation\", and (Output.III) the Sharpe ratio \"portfolio_sharpe_ratio\" of the portfolio of\n",
    "#assets with asset weights \"asset_weights\" and asset return values belonging to \"matrix_of_return_values\".\n",
    "\n",
    "def get_portfolio_statistics(asset_weights, matrix_of_return_values):\n",
    "    asset_means = np.asmatrix(np.mean(matrix_of_return_values, axis = 1))\n",
    "    asset_covariances = np.matrix(np.cov(matrix_of_return_values))\n",
    "    portfolio_mean =asset_weights*asset_means.T\n",
    "    portfolio_mean =portfolio_mean.item()\n",
    "    portfolio_standard_deviation = np.sqrt(asset_weights*asset_covariances*asset_weights.T)\n",
    "    portfolio_standard_deviation = portfolio_standard_deviation.item()\n",
    "    portfolio_sharpe_ratio = portfolio_mean/portfolio_standard_deviation\n",
    "    return portfolio_mean, portfolio_standard_deviation, portfolio_sharpe_ratio\n",
    "\n",
    "random_asset_weights=get_random_asset_weights(3)\n",
    "print(get_portfolio_statistics(random_asset_weights,matrix_of_return_values))"
   ]
  },
  {
   "cell_type": "code",
   "execution_count": 64,
   "metadata": {},
   "outputs": [],
   "source": [
    "#Objective 7.\n",
    "#Using the functions constructed in Objectives 5 and 6, write a loop that, on each iteration, determines a\n",
    "#Numpy vector (matrix) of weights (percentages) \"random_asset_weights\" of length \"no_of_asset_classes\" whose sum \n",
    "#is one (1) and then appends to each of the lists \"collection_of_random_asset_weights\", \"portfolio_means\",\n",
    "#\"portfolio_standard_deviations\", and \"portfolio_sharpe_ratios\" the Numpy vector (matrix) of weights (percentages)\n",
    "#\"random_asset_weights\"; and the mean \"portfolio_mean\", the standard deviation \"portfolio_standard_deviation\", and\n",
    "#the Sharpe ratio \"portfolio_sharpe_ratio\" of the portfolio of assets with asset weights \"asset_weights\" and asset \n",
    "#return values belonging to \"matrix_of_return_values\", respectively.\n",
    "\n",
    "while len(collection_of_random_asset_weights) < no_of_portfolios:\n",
    "        random_asset_weights = get_random_asset_weights(no_of_asset_classes)\n",
    "        collection_of_random_asset_weights.append(random_asset_weights)\n",
    "        portfolio_means.append(get_portfolio_statistics(random_asset_weights, matrix_of_return_values)[0])\n",
    "        portfolio_standard_deviations.append(get_portfolio_statistics(random_asset_weights, matrix_of_return_values)[1])\n",
    "        portfolio_sharpe_ratios.append(get_portfolio_statistics(random_asset_weights, matrix_of_return_values)[2])\n",
    "\n"
   ]
  },
  {
   "cell_type": "code",
   "execution_count": 65,
   "metadata": {},
   "outputs": [
    {
     "data": {
      "image/png": "[encoded data removed]",
      "text/plain": [
       "<Figure size 432x288 with 1 Axes>"
      ]
     },
     "metadata": {
      "needs_background": "light"
     },
     "output_type": "display_data"
    }
   ],
   "source": [
    "#Objective 8.\n",
    "#Make a scatterplot of the corresponding values (x,y) = (portfolio_standard_deviation, portfolio_mean) from the\n",
    "#lists \"portfolio_standard_deviations\" and \"portfolio_means\", respectively.\n",
    "\n",
    "plt.plot(portfolio_standard_deviations, portfolio_means, 'o', markersize = 3, color = 'lightskyblue') \n",
    "plt.show()"
   ]
  },
  {
   "cell_type": "code",
   "execution_count": 66,
   "metadata": {},
   "outputs": [],
   "source": [
    "#Objective 9.\n",
    "#Find the list index of the portfolio of highest Sharpe ratio.\n",
    "\n",
    "index = portfolio_sharpe_ratios.index(max(portfolio_sharpe_ratios))"
   ]
  },
  {
   "cell_type": "code",
   "execution_count": 69,
   "metadata": {},
   "outputs": [
    {
     "name": "stdout",
     "output_type": "stream",
     "text": [
      "[[0.00092413 0.85735573 0.14172014]]\n",
      "0.03726649949946796\n"
     ]
    }
   ],
   "source": [
    "#Objective 10.\n",
    "#Print the asset weights and Sharpe ratio of the portfolio of highest Sharpe ratio, using index above.\n",
    "\n",
    "print(collection_of_random_asset_weights[index])\n",
    "print(portfolio_sharpe_ratios[index])"
   ]
  },
  {
   "cell_type": "code",
   "execution_count": 70,
   "metadata": {},
   "outputs": [
    {
     "data": {
      "image/png": "[encoded data removed]",
      "text/plain": [
       "<Figure size 432x288 with 1 Axes>"
      ]
     },
     "metadata": {
      "needs_background": "light"
     },
     "output_type": "display_data"
    }
   ],
   "source": [
    "#Objective 11.\n",
    "#Add the Capital Market Line to your scatterplot from Objective 8.\n",
    "\n",
    "x = np.linspace(0, max(portfolio_standard_deviations), 10000)\n",
    "y = portfolio_sharpe_ratios[index] * x\n",
    "plt.plot(portfolio_standard_deviations, portfolio_means, 'o', markersize = 3, color = 'lightskyblue')\n",
    "plt.plot(x, y, '-', linewidth = 2, color = 'green')\n",
    "plt.show()"
   ]
  },
  {
   "cell_type": "code",
   "execution_count": null,
   "metadata": {},
   "outputs": [],
   "source": [
    "#Objective 12.\n",
    "#All of the work in this notebook assumes a risk-free rate of zero (0.00).  How could this work be modified to\n",
    "#accommodate a nonzero risk-free rate?  Explain."
   ]
  },
  {
   "cell_type": "markdown",
   "metadata": {},
   "source": [
    "-- Please write Your Answer Here --"
   ]
  }
 ],
 "metadata": {
  "interpreter": {
   "hash": "41bd3fd7d9e964b2fad6aed94245c691d4191ccf8c3ec0630e831498010d969d"
  },
  "kernelspec": {
   "display_name": "Python 3.8.8 64-bit ('base': conda)",
   "name": "python3"
  },
  "language_info": {
   "codemirror_mode": {
    "name": "ipython",
    "version": 3
   },
   "file_extension": ".py",
   "mimetype": "text/x-python",
   "name": "python",
   "nbconvert_exporter": "python",
   "pygments_lexer": "ipython3",
   "version": "3.8.8"
  }
 },
 "nbformat": 4,
 "nbformat_minor": 4
}
